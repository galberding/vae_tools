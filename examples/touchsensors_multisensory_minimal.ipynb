{
 "cells": [
  {
   "cell_type": "markdown",
   "metadata": {},
   "source": [
    "# 1. import all necessary imports"
   ]
  },
  {
   "cell_type": "code",
   "execution_count": 1,
   "metadata": {},
   "outputs": [],
   "source": [
    "from tensorflow.keras.models import model_from_json\n",
    "import numpy as np\n",
    "import urllib.request\n",
    "import pickle\n",
    "import os\n",
    "import gzip"
   ]
  },
  {
   "cell_type": "markdown",
   "metadata": {},
   "source": [
    "# 2. load encoder weights"
   ]
  },
  {
   "cell_type": "code",
   "execution_count": 2,
   "metadata": {},
   "outputs": [
    {
     "name": "stdout",
     "output_type": "stream",
     "text": [
      "Loaded model models/touchsensors_multisensory_sens_proprio_voxel_touch_enc_mean_ProprioVoxelTouch111 from disk\n",
      "Loaded model models/touchsensors_multisensory_sens_proprio_voxel_touch_enc_mean_ProprioVoxelTouch101 from disk\n"
     ]
    }
   ],
   "source": [
    "def load_model(name):\n",
    "    ''' Load any model'''\n",
    "    filename_json = name + \".json\"\n",
    "    filename_h5 = name + \".h5\"\n",
    "    # load json and create model\n",
    "    json_file = open(filename_json, 'r')\n",
    "    loaded_model_json = json_file.read()\n",
    "    json_file.close()\n",
    "    loaded_model = model_from_json(loaded_model_json)\n",
    "    # load weights into new model\n",
    "    loaded_model.load_weights(filename_h5)\n",
    "    print(\"Loaded model \" + name + \" from disk\")\n",
    "    return loaded_model\n",
    "\n",
    "# obs_prop, obs_touch, obs_voxel\n",
    "encoder_3x = load_model('models/touchsensors_multisensory_sens_proprio_voxel_touch_enc_mean_ProprioVoxelTouch111')\n",
    "# obs_prop, obs_touch\n",
    "encoder_2x = load_model('models/touchsensors_multisensory_sens_proprio_voxel_touch_enc_mean_ProprioVoxelTouch101')"
   ]
  },
  {
   "cell_type": "markdown",
   "metadata": {},
   "source": [
    "# 3. load data into the variables"
   ]
  },
  {
   "cell_type": "code",
   "execution_count": 3,
   "metadata": {},
   "outputs": [],
   "source": [
    "def download(url, location):    \n",
    "    if not os.path.isfile(location):\n",
    "        urllib.request.urlretrieve(url, location)\n",
    "\n",
    "\n",
    "def norm_min_max(data, min = 0.0, max = 1.0, axis = None):\n",
    "    ''' Scales the input data to the given minimum and maximum value\n",
    "    \n",
    "    data (np.array): The input data\n",
    "    min     (float): Smallest value in data is scaled to this value\n",
    "    max     (float): Biggest value in data is scaled to this value\n",
    "    \n",
    "    returns the normalized values\n",
    "    '''\n",
    "    data = data - np.min(data, axis = axis)\n",
    "    data = data / np.max(data, axis = axis)\n",
    "    data = (data * (max - min)) + min\n",
    "    return data\n",
    "\n",
    "def norm_min_max_native_range(data, native_min = -np.pi/2.0, native_max = np.pi/2.0, min = 0.0, max = 1.0):\n",
    "    ''' Scales the input data to the given the native range of values to the minimum and maximum value\n",
    "    \n",
    "    data    (np.array): The input data\n",
    "    native_min (float): Lower bound in the native data range\n",
    "    native_max (float): Upper bound in the native data range\n",
    "    min        (float): Smallest value in data is scaled to this value\n",
    "    max        (float): Biggest value in data is scaled to this value\n",
    "    \n",
    "    returns the normalized values\n",
    "    '''\n",
    "    if (np.min(data) < native_min) or (np.max(data) > native_max):\n",
    "        raise Exception(\"data outside of native range\")\n",
    "    data = (data - native_min) / native_max # scale to 0 ... 1 of native range\n",
    "    data = (data * (max - min)) + min       # scale to desired range\n",
    "    return data\n",
    "\n",
    "filenames = [\"multisensory_data_ep_162615.pgz\", \"multisensory_data_ep_162615.pgz\", \"multisensory_data_ep_162628.pgz\", \"multisensory_data_ep_162643.pgz\", \"multisensory_data_ep_162658.pgz\", \"multisensory_data_ep_162713.pgz\", \"multisensory_data_ep_162728.pgz\", \"multisensory_data_ep_162742.pgz\", \"multisensory_data_ep_162757.pgz\", \"multisensory_data_ep_162812.pgz\", \"multisensory_data_ep_162827.pgz\"]\n",
    "sens_proprio = None\n",
    "sens_pos_quat = None\n",
    "sens_touch = None\n",
    "sens_voxel = None\n",
    "for filename in filenames:\n",
    "    url = \"https://github.com/ndrwmlnk/baselines/blob/touchsensors_multisensory_data/HandManipulateBlockTouchSensors_multisensory_data/\" + filename + \"?raw=true\"\n",
    "    location = \"/tmp/\" + filename\n",
    "    download(url, location)\n",
    "\n",
    "    # Each file is a single episode (100 steps) and contains a dict:\n",
    "    # senses = dict(\n",
    "    # sens_proprio,  # 24 joint vaplues for - 24 degrees of freedom\n",
    "    # sens_touch,  # 75 binary touch sensors: 0 - no touch, 1 - touch detected\n",
    "    # sens_pos_quat,  # 7 value vectors: first 3 - XYZ of the cube, last 4 - quat values\n",
    "    # sens_voxel  # 16x16x16 voxel space, cube shape is alwas in the center, cube size 8x8x8, check these links [1, 2] for visualization\n",
    "    # )\n",
    "    \n",
    "\n",
    "    # Read '*.pgz' files:\n",
    "    file = location\n",
    "    with gzip.open(file, 'r') as f:\n",
    "       data = pickle.load(f)\n",
    "    \n",
    "    if sens_proprio is None:\n",
    "        sens_proprio = np.array(data[\"sens_proprio\"])\n",
    "    else:\n",
    "        sens_proprio = np.append(sens_proprio, np.array(data[\"sens_proprio\"]), axis=0)\n",
    "    if sens_pos_quat is None:\n",
    "        sens_pos_quat = np.array(data[\"sens_pos_quat\"])\n",
    "    else:\n",
    "         sens_pos_quat = np.append(sens_pos_quat, np.array(data[\"sens_pos_quat\"]), axis=0)\n",
    "    if sens_touch is None:\n",
    "        sens_touch = np.array(data[\"sens_touch\"])\n",
    "    else:\n",
    "         sens_touch = np.append(sens_touch, np.array(data[\"sens_touch\"]), axis=0)\n",
    "    if sens_voxel is None:\n",
    "        sens_voxel = np.array(data[\"sens_voxel\"])\n",
    "    else:\n",
    "        sens_voxel = np.append(sens_voxel, np.array(data[\"sens_voxel\"]), axis=0)\n",
    "\n",
    "\n",
    "# sens_proprio\n",
    "sens_proprio_norm = norm_min_max(sens_proprio, axis = 0)\n",
    "\n",
    "# sens_voxel (float0..1 1x16x16x16 or 1x4096 if flatten)\n",
    "sens_voxel_norm = sens_voxel # already normalizes?\n",
    "sens_voxel_flat_norm = sens_voxel_norm.reshape((len(sens_voxel_norm), np.prod(sens_voxel_norm.shape[1:])))\n",
    "sens_voxel_norm_flatten = sens_voxel_norm.reshape((sens_voxel_norm.shape[0], -1))\n",
    "\n",
    "# sens_touch (binary 1x75)\n",
    "sens_touch_norm = sens_touch # already normalizes?\n",
    "\n",
    "#################### a single sample of * data ###########################################################\n",
    "idx = 42\n",
    "obs_prop = sens_proprio_norm[[idx]]\n",
    "obs_touch = sens_touch_norm[[idx]]\n",
    "obs_voxel = sens_voxel_norm[[idx], :, :, :, None]"
   ]
  },
  {
   "cell_type": "markdown",
   "metadata": {},
   "source": [
    "# 4. Predict"
   ]
  },
  {
   "cell_type": "code",
   "execution_count": 4,
   "metadata": {},
   "outputs": [],
   "source": [
    "obs_encoded_3x = encoder_3x.predict([obs_prop, obs_voxel, obs_touch])\n",
    "obs_encoded_2x = encoder_2x.predict([obs_prop, obs_touch])"
   ]
  }
 ],
 "metadata": {
  "kernelspec": {
   "display_name": "Python 3",
   "language": "python",
   "name": "python3"
  },
  "language_info": {
   "codemirror_mode": {
    "name": "ipython",
    "version": 3
   },
   "file_extension": ".py",
   "mimetype": "text/x-python",
   "name": "python",
   "nbconvert_exporter": "python",
   "pygments_lexer": "ipython3",
   "version": "3.5.2"
  },
  "varInspector": {
   "cols": {
    "lenName": 16,
    "lenType": 16,
    "lenVar": 40
   },
   "kernels_config": {
    "python": {
     "delete_cmd_postfix": "",
     "delete_cmd_prefix": "del ",
     "library": "var_list.py",
     "varRefreshCmd": "print(var_dic_list())"
    },
    "r": {
     "delete_cmd_postfix": ") ",
     "delete_cmd_prefix": "rm(",
     "library": "var_list.r",
     "varRefreshCmd": "cat(var_dic_list()) "
    }
   },
   "oldHeight": 987,
   "position": {
    "height": "40px",
    "left": "1273.52px",
    "right": "20px",
    "top": "255.75px",
    "width": "600px"
   },
   "types_to_exclude": [
    "module",
    "function",
    "builtin_function_or_method",
    "instance",
    "_Feature"
   ],
   "varInspector_section_display": "none",
   "window_display": false
  }
 },
 "nbformat": 4,
 "nbformat_minor": 2
}
